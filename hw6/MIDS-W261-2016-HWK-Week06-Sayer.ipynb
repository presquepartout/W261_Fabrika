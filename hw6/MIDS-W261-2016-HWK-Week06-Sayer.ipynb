{
 "cells": [
  {
   "cell_type": "markdown",
   "metadata": {},
   "source": [
    "## MIDS W261 HW 6\n",
    "\n",
    "Marjorie Sayer\n",
    "\n",
    "Date: 2/25/2016"
   ]
  },
  {
   "cell_type": "code",
   "execution_count": 1,
   "metadata": {
    "collapsed": true
   },
   "outputs": [],
   "source": [
    "%matplotlib inline\n",
    "import numpy as np\n",
    "import matplotlib.pyplot as plt"
   ]
  },
  {
   "cell_type": "markdown",
   "metadata": {},
   "source": [
    "### HW6.0. \n",
    "\n",
    "In mathematics, computer science, economics, or management science what is mathematical optimization? Give an example of a optimization problem that you have worked with directly or that your organization has worked on. Please describe the objective function and the decision variables. Was the project successful (deployed in the real world)? Describe.\n",
    "\n",
    "**Answer**\n",
    "Mathematical optimization is the search for a \"best value\" option out of a set of alternatives. Most frequently, the possible values are modeled as a function of the alternatives. The function is called the **objective function**. if the alternatives are the variable x, the objective function f maps x to value: \n",
    "\n",
    "`f: x -> value` \n",
    "\n",
    "If `value` is a real number, the optimization problem becomes the search for a maximum or minium value of f (an extremum of f). There are numerous mathematical techniques (calculus, linear programming, calculus of variations) to find extrema. \n",
    "\n",
    "I have worked on text classification with logistic regression. This project is not yet deployed in the real world but reached about 74% accuracy so far. The idea was to label sentences as referring to engineering labels: Bugs, Tasks, or Features. The idea is to model the `p(label|sentence)` as a sigmoid function of the words in the sentence. If there are three words w1, w2, and w3, then: \n",
    "\n",
    "probability(Bugs | w1, w2, w3) = 1/(1 + exp(-z)) = sigmoid(z)\n",
    "\n",
    "where z = a<sub>0</sub> + a<sub>1</sub>w1 + a<sub>2</sub>w2. \n",
    "\n",
    "And the optimization problem is: to find values of the parameters a<sub>0</sub>, a<sub>1</sub>, and a<sub>2</sub> that minimize the objective function which is the log likelihood function. \n"
   ]
  },
  {
   "cell_type": "markdown",
   "metadata": {},
   "source": [
    "### HW6.1 \n",
    "\n",
    "**For unconstrained univariate optimization what are the first order Necessary Conditions for Optimality (FOC)?**\n",
    "\n",
    "If the objective function is differentiable, the FOC is that the derivative is zero. \n",
    "\n",
    "**What are the second order optimality conditions (SOC)? Give a mathematical defintion.**\n",
    "\n",
    "If the objective function is twice differentiable, the SOC is that the second derivative is strictly positive (for a minimum) or strictly negative (for a maximum). \n",
    "\n",
    "**For unconstrained multi-variate optimization what are the first order  Necessary Conditions for Optimality (FOC)?** \n",
    "\n",
    "If the objective function is differentiable, the FOC is that all first order partial derivatives are zero. \n",
    "\n",
    "**What are the second order optimality conditions (SOC)? Give a mathematical defintion. What is the Hessian matrix in this context?**\n",
    "\n",
    "The Hessian matrix is the matrix of partial derivatives. If for example the objective function has two arguments x and y, the Hessian matrix has the following coordinates: \n",
    "\n",
    "f<sub>xx</sub>(x,y)    f<sub>xy</sub>(x,y)\n",
    "\n",
    "f<sub>yx</sub>(x,y)    f<sub>yy</sub>(x,y) \n",
    "\n",
    "\n",
    "Also in python, plot the univariate function \n",
    "X<sup>3</sup> -12x<sup>2</sup>-6 defined over the real  domain -6 to +6. \n",
    "\n",
    "Also plot its corresponding first and second derivative functions. Eyeballing these graphs, identify candidate optimal points and then classify them as local minimums or maximums. Highlight and label these points in your graphs. Justify your responses using the FOC and SOC.\n"
   ]
  },
  {
   "cell_type": "code",
   "execution_count": 2,
   "metadata": {
    "collapsed": false
   },
   "outputs": [
    {
     "data": {
      "text/plain": [
       "[<matplotlib.lines.Line2D at 0x10581a8d0>]"
      ]
     },
     "execution_count": 2,
     "metadata": {},
     "output_type": "execute_result"
    },
    {
     "data": {
      "image/png": "[encoded data removed]",
      "text/plain": [
       "<matplotlib.figure.Figure at 0x10581a690>"
      ]
     },
     "metadata": {},
     "output_type": "display_data"
    }
   ],
   "source": [
    "x = np.arange(-6, 6, 0.1);\n",
    "y = x**3 - 12*x**2 -6\n",
    "plt.plot(x, y)"
   ]
  },
  {
   "cell_type": "code",
   "execution_count": 3,
   "metadata": {
    "collapsed": false
   },
   "outputs": [
    {
     "data": {
      "text/plain": [
       "<matplotlib.lines.Line2D at 0x1059732d0>"
      ]
     },
     "execution_count": 3,
     "metadata": {},
     "output_type": "execute_result"
    },
    {
     "data": {
      "image/png": "[encoded data removed]",
      "text/plain": [
       "<matplotlib.figure.Figure at 0x10585e8d0>"
      ]
     },
     "metadata": {},
     "output_type": "display_data"
    }
   ],
   "source": [
    "y_prime = 3*x**2 - 12*x\n",
    "plt.plot(x, y_prime)\n",
    "plt.axhline(y=0.0, xmin=-5.9, xmax=5.9, linewidth=1, color = 'red')"
   ]
  },
  {
   "cell_type": "code",
   "execution_count": 4,
   "metadata": {
    "collapsed": false
   },
   "outputs": [
    {
     "data": {
      "text/plain": [
       "<matplotlib.lines.Line2D at 0x105ab7ad0>"
      ]
     },
     "execution_count": 4,
     "metadata": {},
     "output_type": "execute_result"
    },
    {
     "data": {
      "image/png": "[encoded data removed]",
      "text/plain": [
       "<matplotlib.figure.Figure at 0x105a7c8d0>"
      ]
     },
     "metadata": {},
     "output_type": "display_data"
    }
   ],
   "source": [
    "y_doubleprime = 6*x - 12\n",
    "plt.plot(x, y_doubleprime)\n",
    "plt.axhline(y=0.0, xmin=-5.9, xmax=5.9, linewidth=1, color = 'red')"
   ]
  },
  {
   "cell_type": "markdown",
   "metadata": {},
   "source": [
    "### HW6.2\n",
    "\n",
    "Taking x=1 as the first approximation(xt1) of a root of x<sup>3</sup> + 2x -4 = 0, use the Newton-Raphson method to calculate the second approximation (denoted as xt2) of this root. (Hint the solution is xt2=1.2)\n",
    "\n",
    "**Solution**\n",
    "The first derivative f' of the function, and the values of f and f' at xt1 are: \n",
    "\n",
    "`f'(x) =` 3x<sup>2</sup> + 2\n",
    "\n",
    "`f(x) = -1`\n",
    "\n",
    "`f'(x) = 5`\n",
    "\n",
    "By Newton-Raphson, the second approximation is `xt2 = xt1 - f(x)/f'(x)`\n",
    "\n",
    "`xt2 = 1 - (-1)/5 = 1.2`"
   ]
  },
  {
   "cell_type": "markdown",
   "metadata": {},
   "source": [
    "### HW6.3 Convex optimization \n",
    "What makes an optimization problem convex? What are the first order  Necessary Conditions for Optimality in convex optimization.  What are the second order optimality conditions for convex optimization? Are both necessary to determine the maximum or minimum of candidate optimal solutions?\n",
    "\n",
    "**Answer**\n",
    "An optimization problem is convex if the objective function is convex and the domain of optimization is a convex set. \n",
    "\n",
    "The FOC for convext optimization, if the function is differentiable, is that all first order derivatives are zero. There is no necessary second order condition. By convexity of f, if it is twice differentiable, its Hessian is either positive definite or negative definite. \n",
    "\n",
    "Fill in the BLANKS here:\n",
    "Convex minimization, a subfield of optimization, studies the problem of minimizing **convex** functions over **convex** sets. The **convex** property can make optimization in some sense \"easier\" than the general case - for example, any local minimum must be a global minimum."
   ]
  },
  {
   "cell_type": "markdown",
   "metadata": {},
   "source": [
    "### HW 6.4\n",
    "\n",
    "The learning objective function for weighted ordinary least squares (WOLS) (aka weight linear regression) is defined as follows:\n",
    "\n",
    "\n",
    "$F(a_0, a_1,...,a_n) = \\frac{1}{2} \\sum_{i=1}^m weight_i (W X_i - y_i)^2 $\n",
    "\n",
    "\n",
    "Where training set consists of input variables X ( in vector form) and a target variable y, and W is the vector of coefficients for the linear regression model:\n",
    "\n",
    "$W = (a_0, a_1, ..., a_n)$\n",
    "\n",
    "Derive the gradient for this weighted OLS by hand; showing each step and also explaining each step.\n",
    "\n",
    "Assumptions: You can see from the above that I'm assuming that the vectors $X_i$ and $y_i$ are vectors in $R^n$. The number of training examples is m. Correspondingly, there are m weights.\n",
    "\n",
    "The gradient is the vector whose components are the first partial derivatives of F with respect to the parameters $a_i$. \n",
    "\n",
    "**Note:** we represent the vector $X^i$ as $(x_0^i, x_1^i, ..., x_n^i)$ where $x_0^i = 1$ for all i. **n** is the dimension of the feature space. \n",
    "\n",
    "$\\frac{\\partial F}{\\partial a_j} = \\frac{1}{2} * \\sum_{i=1}^m weight_i * \\frac{\\partial }{\\partial a_j} (a_0 x_0^i + ... + a_n x_n^i - y_i)^2)$\n",
    "\n",
    "$\\frac{\\partial F}{\\partial a_j} = \\frac{1}{2} * \\sum_{i=1}^m weight_i * 2 * (a_0 x_0^i + ... + a_n x_n^i - y_i) * x_j^i$\n",
    "\n",
    "$\\frac{\\partial F}{\\partial a_j} = \\sum_{i=1}^m weight_i * (a_0 x_0^i + ... + a_n x_n^i - y_i) * x_j^i$\n",
    "\n",
    "$\\frac{\\partial F}{\\partial a_j} = \\sum_{i=1}^m weight_i * (W X - y_i)*x_j^i$\n",
    "\n"
   ]
  },
  {
   "cell_type": "markdown",
   "metadata": {
    "collapsed": true
   },
   "source": [
    "### HW 6.5\n",
    "\n",
    "Write a MapReduce job in MRJob to do the training at scale of a weighted OLS model using gradient descent.\n",
    "\n",
    "Generate one million datapoints just like in the following notebook:  http://nbviewer.ipython.org/urls/dl.dropbox.com/s/kritdm3mo1daolj/MrJobLinearRegressionGD.ipynb\n",
    "\n",
    "Weight each example as follows: \n",
    "\n",
    "weight(x)= abs(1/x)\n",
    "\n",
    "Sample 1% of the data in MapReduce and use the sampled dataset to train a (weighted if available in SciKit-Learn) linear regression model locally using  SciKit-Learn (http://scikit-learn.org/stable/modules/generated/sklearn.linear_model.LinearRegression.html)\n",
    "\n",
    "Plot the resulting weighted linear regression model versus the original model that you used to generate the data. Comment on your findings.\n",
    "\n",
    "HW6.5.1 (OPTIONAL)\n",
    "Using MRJob and in Python, plot the error surface for the weighted linear regression model using a heatmap and contour plot. \n",
    "Also plot the current model in the original domain space.  (Plot them side by side if possible)\n",
    "Plot the path to convergence (during training) for the weighted linear regression model in plot error space and in the original domain space. Make sure to label your plots with iteration numbers, function, model space versus original domain space, etc.\n",
    "Comment on convergence and on the mean squared error using your weighted OLS algorithm on the weighted dataset versus using the weighted OLS algorithm on the uniformly weighted dataset."
   ]
  },
  {
   "cell_type": "code",
   "execution_count": 5,
   "metadata": {
    "collapsed": false
   },
   "outputs": [],
   "source": [
    "import numpy as np\n",
    "size = 1000000\n",
    "x = np.random.uniform(-4, 4, size)\n",
    "y = x * 1.0 - 4 + np.random.normal(0,0.5,size)\n",
    "data = zip(y,x) #notice that the order is inverted! This means data has y,x.\n",
    "np.savetxt('LinearRegression.csv',data,delimiter = \",\")"
   ]
  },
  {
   "cell_type": "code",
   "execution_count": 36,
   "metadata": {
    "collapsed": false
   },
   "outputs": [
    {
     "name": "stdout",
     "output_type": "stream",
     "text": [
      "Overwriting MrJobBatchGDUpdate_LinearRegression.py\n"
     ]
    }
   ],
   "source": [
    "%%writefile MrJobBatchGDUpdate_LinearRegression.py\n",
    "from mrjob.job import MRJob\n",
    "from mrjob.step import MRStep\n",
    "import numpy as np\n",
    "\n",
    "\n",
    "# This MrJob calculates the gradient of the entire training set \n",
    "#     Mapper: calculate partial gradient for each example  \n",
    "#     \n",
    "class MrJobBatchGDUpdate_LinearRegression(MRJob):\n",
    "    # run before the mapper processes any input\n",
    "    def read_weightsfile(self):\n",
    "        # Read weights file\n",
    "        with open('./weights.txt', 'r') as f:\n",
    "            self.weights = [float(v) for v in f.readline().split(',')]\n",
    "        # Initialze gradient for this iteration\n",
    "        self.partial_Gradient = [0]*len(self.weights)\n",
    "        self.partial_count = 0\n",
    "    \n",
    "    # Calculate partial gradient for each example \n",
    "    def partial_gradient(self, _, line):\n",
    "        D = (map(float,line.split(','))) # D[0] is y-coord, D[1] is x-coord.\n",
    "        # y_hat is the predicted value given current weights\n",
    "        y_hat = self.weights[0]+self.weights[1]*D[1]\n",
    "        if D[1] != 0:\n",
    "            wt = 1.0 / np.abs(D[1])\n",
    "        # Update parial gradient vector with gradient from current example\n",
    "        self.partial_Gradient =  [self.partial_Gradient[0]+ wt*(D[0] - y_hat), \\\n",
    "                                  self.partial_Gradient[1]+ wt*(D[0]-y_hat)*D[1]]\n",
    "        self.partial_count = self.partial_count + 1\n",
    "        \n",
    "        #yield None, (D[0]-y_hat,(D[0]-y_hat)*D[1],1)\n",
    "    \n",
    "    # Finally emit in-memory partial gradient and partial count\n",
    "    def partial_gradient_emit(self):\n",
    "        yield None, (self.partial_Gradient,self.partial_count)\n",
    "        \n",
    "    # Accumulate partial gradient from mapper and emit total gradient \n",
    "    # Output: key = None, Value = gradient vector\n",
    "    def gradient_accumulater(self, _, partial_Gradient_Record): \n",
    "        total_gradient = [0]*2\n",
    "        total_count = 0\n",
    "        for partial_Gradient,partial_count in partial_Gradient_Record:\n",
    "            total_count = total_count + partial_count\n",
    "            total_gradient[0] = total_gradient[0] + partial_Gradient[0]\n",
    "            total_gradient[1] = total_gradient[1] + partial_Gradient[1]\n",
    "        yield None, [v/total_count for v in total_gradient]\n",
    "    \n",
    "    def steps(self):\n",
    "        return [MRStep(mapper_init=self.read_weightsfile,\n",
    "                       mapper=self.partial_gradient,\n",
    "                       mapper_final=self.partial_gradient_emit,\n",
    "                       reducer=self.gradient_accumulater)] \n",
    "    \n",
    "if __name__ == '__main__':\n",
    "    MrJobBatchGDUpdate_LinearRegression.run()"
   ]
  },
  {
   "cell_type": "code",
   "execution_count": 37,
   "metadata": {
    "collapsed": false
   },
   "outputs": [
    {
     "name": "stdout",
     "output_type": "stream",
     "text": [
      "The autoreload extension is already loaded. To reload it, use:\n",
      "  %reload_ext autoreload\n"
     ]
    }
   ],
   "source": [
    "%load_ext autoreload\n",
    "%autoreload 2"
   ]
  },
  {
   "cell_type": "code",
   "execution_count": 38,
   "metadata": {
    "collapsed": true
   },
   "outputs": [],
   "source": [
    "!chmod a+x MrJobBatchGDUpdate_LinearRegression.py"
   ]
  },
  {
   "cell_type": "code",
   "execution_count": 39,
   "metadata": {
    "collapsed": false
   },
   "outputs": [
    {
     "name": "stdout",
     "output_type": "stream",
     "text": [
      "iteration =0  weights = [-0.8140081   1.69787121]\n",
      "iteration =1  weights = [-1.43678986  1.6280326 ]\n",
      "iteration =2  weights = [-1.9279771   1.56518207]\n",
      "iteration =3  weights = [-2.3153759   1.50862048]\n",
      "iteration =4  weights = [-2.62091689  1.4577186 ]\n",
      "iteration =5  weights = [-2.86189673  1.41191016]\n",
      "iteration =6  weights = [-3.05195726  1.37068552]\n",
      "iteration =7  weights = [-3.2018578   1.33358604]\n",
      "iteration =8  weights = [-3.3200842   1.30019895]\n",
      "iteration =9  weights = [-3.41332925  1.27015279]\n",
      "iteration =10  weights = [-3.48687152  1.24311326]\n",
      "iteration =11  weights = [-3.54487425  1.21877951]\n",
      "iteration =12  weights = [-3.59062095  1.19688077]\n",
      "iteration =13  weights = [-3.62670134  1.17717341]\n",
      "iteration =14  weights = [-3.65515792  1.15943812]\n",
      "iteration =15  weights = [-3.6776016   1.14347759]\n",
      "iteration =16  weights = [-3.69530293  1.1291142 ]\n",
      "iteration =17  weights = [-3.70926395  1.11618814]\n",
      "iteration =18  weights = [-3.72027501  1.10455559]\n",
      "iteration =19  weights = [-3.72895943  1.0940871 ]\n",
      "iteration =20  weights = [-3.73580883  1.08466618]\n",
      "iteration =21  weights = [-3.74121095  1.07618801]\n",
      "iteration =22  weights = [-3.74547161  1.06855825]\n",
      "iteration =23  weights = [-3.748832    1.06169199]\n",
      "iteration =24  weights = [-3.75148233  1.05551285]\n",
      "iteration =25  weights = [-3.75357266  1.04995204]\n",
      "iteration =26  weights = [-3.7552213   1.04494771]\n",
      "iteration =27  weights = [-3.75652159  1.04044416]\n",
      "iteration =28  weights = [-3.75754713  1.03639128]\n",
      "iteration =29  weights = [-3.75835597  1.03274398]\n",
      "iteration =30  weights = [-3.75899391  1.02946166]\n",
      "iteration =31  weights = [-3.75949706  1.0265078 ]\n",
      "iteration =32  weights = [-3.75989389  1.02384954]\n",
      "iteration =33  weights = [-3.76020688  1.02145728]\n",
      "Final weights\n",
      "\n",
      "[-3.76045373  1.01930443]\n"
     ]
    }
   ],
   "source": [
    "from numpy import random,array\n",
    "from MrJobBatchGDUpdate_LinearRegression import MrJobBatchGDUpdate_LinearRegression\n",
    "import numpy as np\n",
    "\n",
    "learning_rate = 0.05\n",
    "stop_criteria = 0.000005\n",
    "\n",
    "# Generate random values as inital weights\n",
    "weights = array([random.uniform(-3,3),random.uniform(-3,3)])\n",
    "# Write the weights to the files\n",
    "with open('./weights.txt', 'w+') as f:\n",
    "    f.writelines(','.join(str(j) for j in weights))\n",
    "\n",
    "# create a mrjob instance for batch gradient descent update over all data\n",
    "mr_job = MrJobBatchGDUpdate_LinearRegression(args=['LinearRegression.csv', \n",
    "                                                   '--file', './weights.txt',\n",
    "                                                  '--strict-protocols'])\n",
    "# Update centroids iteratively\n",
    "i = 0\n",
    "while(1):\n",
    "    print \"iteration =\"+str(i)+\"  weights =\",weights\n",
    "    # Save weights from previous iteration\n",
    "    weights_old = weights\n",
    "    with mr_job.make_runner() as runner: \n",
    "        runner.run()\n",
    "        # stream_output: get access of the output \n",
    "        for line in runner.stream_output():\n",
    "            # value is the gradient value\n",
    "            key,value =  mr_job.parse_output_line(line)\n",
    "            # Update weights\n",
    "            weights = weights + learning_rate*array(value)\n",
    "    i = i + 1\n",
    "    # Write the updated weights to file \n",
    "    with open('./weights.txt', 'w+') as f:\n",
    "        f.writelines(','.join(str(j) for j in weights))\n",
    "    # Stop if weights get converged\n",
    "    if(sum((weights_old-weights)**2)<stop_criteria):\n",
    "        break\n",
    "        \n",
    "print \"Final weights\\n\"\n",
    "print weights"
   ]
  },
  {
   "cell_type": "code",
   "execution_count": null,
   "metadata": {
    "collapsed": false
   },
   "outputs": [],
   "source": [
    "import math\n",
    "np.abs(-6)"
   ]
  },
  {
   "cell_type": "code",
   "execution_count": null,
   "metadata": {
    "collapsed": true
   },
   "outputs": [],
   "source": []
  }
 ],
 "metadata": {
  "kernelspec": {
   "display_name": "Python 2",
   "language": "python",
   "name": "python2"
  },
  "language_info": {
   "codemirror_mode": {
    "name": "ipython",
    "version": 2
   },
   "file_extension": ".py",
   "mimetype": "text/x-python",
   "name": "python",
   "nbconvert_exporter": "python",
   "pygments_lexer": "ipython2",
   "version": "2.7.11"
  }
 },
 "nbformat": 4,
 "nbformat_minor": 0
}
